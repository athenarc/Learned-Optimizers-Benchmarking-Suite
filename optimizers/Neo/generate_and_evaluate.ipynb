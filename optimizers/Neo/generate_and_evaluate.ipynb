{
 "cells": [
  {
   "cell_type": "code",
   "execution_count": 18,
   "metadata": {},
   "outputs": [
    {
     "name": "stdout",
     "output_type": "stream",
     "text": [
      "The autoreload extension is already loaded. To reload it, use:\n",
      "  %reload_ext autoreload\n"
     ]
    }
   ],
   "source": [
    "import os\n",
    "import torch\n",
    "from neo import *\n",
    "import yaml\n",
    "from tqdm import tqdm\n",
    "%load_ext autoreload\n",
    "%autoreload 2\n",
    "import pandas as pd\n",
    "from database_env import *"
   ]
  },
  {
   "cell_type": "code",
   "execution_count": 11,
   "metadata": {},
   "outputs": [],
   "source": [
    "def get_times(path, env_config, time=False):        \n",
    "    env = DataBaseEnv(env_config)\n",
    "    plans = {}\n",
    "    times = {}\n",
    "    paths = list(Path(path).glob(\"*sql.json\"))\n",
    "    paths_queries = [(pa.parts[-1][:-5],pa) for pa in paths]\n",
    "    paths_queries = sorted(paths_queries, key=lambda x: (int(x[0].split(\".\")[0][:-1]), x[0].split(\".\")[0][-1]))\n",
    "    \n",
    "    for q,pa in paths_queries :\n",
    "        plan = Plan()\n",
    "        plan.load(pa)\n",
    "        plans[q] = plan\n",
    "        env.plan = plan\n",
    "        if env.plan.is_complete:      \n",
    "            times[q] = env.reward() \n",
    "        else:\n",
    "            times[q] = np.nan\n",
    "    return plans, times"
   ]
  },
  {
   "cell_type": "code",
   "execution_count": 12,
   "metadata": {},
   "outputs": [],
   "source": [
    "with open('postgres_env_config.json', \"r\") as f:\n",
    "    env_config = json.load(f)\n",
    "\n",
    "with open('config_latency.yml', 'r') as file:\n",
    "    d = yaml.load(file, Loader=yaml.FullLoader)\n",
    "\n",
    "d['neo_args']['device'] = 'cuda:0'\n",
    "# d['net_args']['pretrained_path'] = False\n",
    "d['neo_args']['selectivity'] = False\n",
    "# create_agent\n",
    "agent = NeoAgent(TransNet(**d['net_args']), collate_fn=collate, device=d['neo_args']['device'])\n",
    "alg = Neo(agent, env_config, d['neo_args'], d['train_args'], [], {})"
   ]
  },
  {
   "cell_type": "code",
   "execution_count": 13,
   "metadata": {},
   "outputs": [],
   "source": [
    "paths = ['runs/random_dataset/q_split/1.pt', 'runs/random_dataset/sp_split/1.pt', \n",
    "        'runs/random_dataset/random_val/1.pt', 'runs/random_dataset/random_train_val/1.pt']"
   ]
  },
  {
   "cell_type": "markdown",
   "metadata": {},
   "source": [
    "## Generate"
   ]
  },
  {
   "cell_type": "code",
   "execution_count": 16,
   "metadata": {},
   "outputs": [
    {
     "name": "stderr",
     "output_type": "stream",
     "text": [
      "100%|██████████| 113/113 [04:08<00:00,  2.20s/it]\n",
      "100%|██████████| 113/113 [04:13<00:00,  2.24s/it]\n",
      "100%|██████████| 113/113 [03:48<00:00,  2.02s/it]\n",
      "100%|██████████| 113/113 [03:50<00:00,  2.04s/it]\n"
     ]
    }
   ],
   "source": [
    "for p in paths:\n",
    "    path = Path(p)\n",
    "    alg.agent.net.load_state_dict(torch.load(path, map_location=d['neo_args']['device']), strict=False)\n",
    "    alg.agent.net.eval();\n",
    "    save_path = path.parent / 'generated'\n",
    "    save_path.mkdir(exist_ok=True)\n",
    "    for q in tqdm(env_config['db_data']):\n",
    "        plan = alg.generate_plan(q, num=1)\n",
    "        plan.save(save_path / (q + \".json\"))"
   ]
  },
  {
   "cell_type": "markdown",
   "metadata": {},
   "source": [
    "## Evaluate"
   ]
  },
  {
   "cell_type": "code",
   "execution_count": 21,
   "metadata": {},
   "outputs": [
    {
     "name": "stderr",
     "output_type": "stream",
     "text": [
      "100%|██████████| 4/4 [21:06<00:00, 316.51s/it]\n",
      "100%|██████████| 4/4 [23:11<00:00, 347.96s/it]\n",
      "100%|██████████| 4/4 [20:03<00:00, 300.77s/it]\n"
     ]
    },
    {
     "data": {
      "text/html": [
       "<div>\n",
       "<style scoped>\n",
       "    .dataframe tbody tr th:only-of-type {\n",
       "        vertical-align: middle;\n",
       "    }\n",
       "\n",
       "    .dataframe tbody tr th {\n",
       "        vertical-align: top;\n",
       "    }\n",
       "\n",
       "    .dataframe thead th {\n",
       "        text-align: right;\n",
       "    }\n",
       "</style>\n",
       "<table border=\"1\" class=\"dataframe\">\n",
       "  <thead>\n",
       "    <tr style=\"text-align: right;\">\n",
       "      <th></th>\n",
       "      <th>runs/random_dataset/q_split/1.pt</th>\n",
       "      <th>runs/random_dataset/sp_split/1.pt</th>\n",
       "      <th>runs/random_dataset/random_val/1.pt</th>\n",
       "      <th>runs/random_dataset/random_train_val/1.pt</th>\n",
       "    </tr>\n",
       "  </thead>\n",
       "  <tbody>\n",
       "    <tr>\n",
       "      <th>1a.sql</th>\n",
       "      <td>499.388000</td>\n",
       "      <td>516.096667</td>\n",
       "      <td>469.258667</td>\n",
       "      <td>467.546000</td>\n",
       "    </tr>\n",
       "    <tr>\n",
       "      <th>1b.sql</th>\n",
       "      <td>457.443333</td>\n",
       "      <td>438.333000</td>\n",
       "      <td>397.829000</td>\n",
       "      <td>432.308333</td>\n",
       "    </tr>\n",
       "    <tr>\n",
       "      <th>1c.sql</th>\n",
       "      <td>434.729000</td>\n",
       "      <td>404.772333</td>\n",
       "      <td>384.476333</td>\n",
       "      <td>419.626667</td>\n",
       "    </tr>\n",
       "    <tr>\n",
       "      <th>1d.sql</th>\n",
       "      <td>472.831667</td>\n",
       "      <td>439.687000</td>\n",
       "      <td>414.417000</td>\n",
       "      <td>423.868000</td>\n",
       "    </tr>\n",
       "    <tr>\n",
       "      <th>2a.sql</th>\n",
       "      <td>709.147000</td>\n",
       "      <td>788.007667</td>\n",
       "      <td>701.848000</td>\n",
       "      <td>723.138333</td>\n",
       "    </tr>\n",
       "    <tr>\n",
       "      <th>...</th>\n",
       "      <td>...</td>\n",
       "      <td>...</td>\n",
       "      <td>...</td>\n",
       "      <td>...</td>\n",
       "    </tr>\n",
       "    <tr>\n",
       "      <th>25a.sql</th>\n",
       "      <td>3163.609667</td>\n",
       "      <td>2983.052000</td>\n",
       "      <td>3053.919333</td>\n",
       "      <td>3132.844000</td>\n",
       "    </tr>\n",
       "    <tr>\n",
       "      <th>26c.sql</th>\n",
       "      <td>3918.443000</td>\n",
       "      <td>3865.290667</td>\n",
       "      <td>3866.488667</td>\n",
       "      <td>7248.639000</td>\n",
       "    </tr>\n",
       "    <tr>\n",
       "      <th>29c.sql</th>\n",
       "      <td>4209.297000</td>\n",
       "      <td>4526.218333</td>\n",
       "      <td>4050.516000</td>\n",
       "      <td>4168.188333</td>\n",
       "    </tr>\n",
       "    <tr>\n",
       "      <th>31c.sql</th>\n",
       "      <td>5044.078333</td>\n",
       "      <td>3900.053000</td>\n",
       "      <td>3971.598667</td>\n",
       "      <td>4276.200000</td>\n",
       "    </tr>\n",
       "    <tr>\n",
       "      <th>33c.sql</th>\n",
       "      <td>1321.646333</td>\n",
       "      <td>1559.317000</td>\n",
       "      <td>1588.392333</td>\n",
       "      <td>959.979000</td>\n",
       "    </tr>\n",
       "  </tbody>\n",
       "</table>\n",
       "<p>113 rows × 4 columns</p>\n",
       "</div>"
      ],
      "text/plain": [
       "         runs/random_dataset/q_split/1.pt  runs/random_dataset/sp_split/1.pt  \\\n",
       "1a.sql                         499.388000                         516.096667   \n",
       "1b.sql                         457.443333                         438.333000   \n",
       "1c.sql                         434.729000                         404.772333   \n",
       "1d.sql                         472.831667                         439.687000   \n",
       "2a.sql                         709.147000                         788.007667   \n",
       "...                                   ...                                ...   \n",
       "25a.sql                       3163.609667                        2983.052000   \n",
       "26c.sql                       3918.443000                        3865.290667   \n",
       "29c.sql                       4209.297000                        4526.218333   \n",
       "31c.sql                       5044.078333                        3900.053000   \n",
       "33c.sql                       1321.646333                        1559.317000   \n",
       "\n",
       "         runs/random_dataset/random_val/1.pt  \\\n",
       "1a.sql                            469.258667   \n",
       "1b.sql                            397.829000   \n",
       "1c.sql                            384.476333   \n",
       "1d.sql                            414.417000   \n",
       "2a.sql                            701.848000   \n",
       "...                                      ...   \n",
       "25a.sql                          3053.919333   \n",
       "26c.sql                          3866.488667   \n",
       "29c.sql                          4050.516000   \n",
       "31c.sql                          3971.598667   \n",
       "33c.sql                          1588.392333   \n",
       "\n",
       "         runs/random_dataset/random_train_val/1.pt  \n",
       "1a.sql                                  467.546000  \n",
       "1b.sql                                  432.308333  \n",
       "1c.sql                                  419.626667  \n",
       "1d.sql                                  423.868000  \n",
       "2a.sql                                  723.138333  \n",
       "...                                            ...  \n",
       "25a.sql                                3132.844000  \n",
       "26c.sql                                7248.639000  \n",
       "29c.sql                                4168.188333  \n",
       "31c.sql                                4276.200000  \n",
       "33c.sql                                 959.979000  \n",
       "\n",
       "[113 rows x 4 columns]"
      ]
     },
     "execution_count": 21,
     "metadata": {},
     "output_type": "execute_result"
    }
   ],
   "source": [
    "N = 3\n",
    "save_path = Path('runs/random_dataset')\n",
    "\n",
    "test_set = np.random.choice(list(env_config['db_data']), 30)\n",
    "job_queries = {k: v[-1] for k,v in env_config['db_data'].items()}\n",
    "\n",
    "data = defaultdict(list)\n",
    "for i in range(N):\n",
    "    for p in tqdm(paths):\n",
    "        path = Path(p)\n",
    "        _, times = get_times(path.parent / \"generated\", env_config, True)\n",
    "        data[p].append(times)\n",
    "        \n",
    "for k,v in data.items():\n",
    "    dic = {}\n",
    "    for i in v[0].keys():\n",
    "        dic[i] = np.mean([l[i] for l in v if l[i] is not None])\n",
    "    data[k] = dic\n",
    "\n",
    "sorted_queries = sorted(job_queries.keys(), key=lambda x: [x in test_set, (int(x.split(\".\")[0][:-1]), x.split(\".\")[0][-1])])\n",
    "sorted_data = {}    \n",
    "for name in data:\n",
    "    sorted_data[name] =  np.array([data[name].get(k, np.nan) for k in sorted_queries])\n",
    "    \n",
    "\n",
    "d = {name : sorted_data[name] for name in sorted_data}\n",
    "df = pd.DataFrame(d, index=sorted_queries)\n",
    "df.to_csv(save_path / \"latency.csv\")\n",
    "df"
   ]
  },
  {
   "cell_type": "code",
   "execution_count": null,
   "metadata": {},
   "outputs": [],
   "source": []
  }
 ],
 "metadata": {
  "kernelspec": {
   "display_name": "neo",
   "language": "python",
   "name": "python3"
  },
  "language_info": {
   "codemirror_mode": {
    "name": "ipython",
    "version": 3
   },
   "file_extension": ".py",
   "mimetype": "text/x-python",
   "name": "python",
   "nbconvert_exporter": "python",
   "pygments_lexer": "ipython3",
   "version": "3.9.21"
  }
 },
 "nbformat": 4,
 "nbformat_minor": 4
}
